{
 "cells": [
  {
   "cell_type": "code",
   "execution_count": 1,
   "metadata": {},
   "outputs": [
    {
     "name": "stdout",
     "output_type": "stream",
     "text": [
      "Trained Q-Table:\n",
      "       Action1     Action2\n",
      "S1   99.845591   94.841207\n",
      "S2  169.211223  199.258974\n",
      "S3   49.805196   39.801806\n",
      "S4  149.607341  144.562592\n",
      "S5  244.419032  249.441049\n",
      "In state S1, the agent chooses: Action1\n",
      "In state S2, the agent chooses: Action2\n",
      "In state S3, the agent chooses: Action1\n",
      "In state S4, the agent chooses: Action1\n",
      "In state S5, the agent chooses: Action2\n"
     ]
    }
   ],
   "source": [
    "import numpy as np\n",
    "import pandas as pd\n",
    "import random\n",
    "\n",
    "# Step 1: Create or load a dataset (simplified for this example)\n",
    "data = {\n",
    "    \"State\": [\"S1\", \"S2\", \"S3\", \"S4\", \"S5\"],\n",
    "    \"Action1_Reward\": [10, -10, 5, 15, 20],\n",
    "    \"Action2_Reward\": [5, 20, -5, 10, 25],\n",
    "}\n",
    "df = pd.DataFrame(data)\n",
    "\n",
    "# Step 2: Define environment and Q-learning parameters\n",
    "states = df[\"State\"].tolist()  # States from the dataset\n",
    "actions = [\"Action1\", \"Action2\"]  # Possible actions\n",
    "q_table = np.zeros((len(states), len(actions)))  # Initialize Q-table\n",
    "\n",
    "# Hyperparameters\n",
    "learning_rate = 0.1\n",
    "discount_factor = 0.9\n",
    "epsilon = 0.8  # Exploration rate\n",
    "episodes = 500\n",
    "\n",
    "# Step 3: Define the RL loop\n",
    "for episode in range(episodes):\n",
    "    state = random.choice(states)  # Start from a random state\n",
    "    state_index = states.index(state)\n",
    "\n",
    "    for step in range(10):  # Simulate agent steps\n",
    "        # Choose action: epsilon-greedy\n",
    "        if random.uniform(0, 1) < epsilon:\n",
    "            action_index = random.randint(0, len(actions) - 1)  # Explore\n",
    "        else:\n",
    "            action_index = np.argmax(q_table[state_index])  # Exploit\n",
    "\n",
    "        action = actions[action_index]\n",
    "\n",
    "        # Get reward for chosen action from dataset\n",
    "        reward = df.iloc[state_index][f\"{action}_Reward\"]\n",
    "\n",
    "        # Simulate the next state (stay in the same state here)\n",
    "        next_state_index = state_index  # (Static environment in this example)\n",
    "\n",
    "        # Q-Learning update rule\n",
    "        q_table[state_index, action_index] = q_table[state_index, action_index] + learning_rate * (\n",
    "            reward + discount_factor * np.max(q_table[next_state_index]) - q_table[state_index, action_index]\n",
    "        )\n",
    "\n",
    "# Step 4: Evaluate the Q-table\n",
    "print(\"Trained Q-Table:\")\n",
    "print(pd.DataFrame(q_table, index=states, columns=actions))\n",
    "\n",
    "# Step 5: Use the Q-table for decision-making\n",
    "def choose_best_action(state):\n",
    "    state_index = states.index(state)\n",
    "    action_index = np.argmax(q_table[state_index])\n",
    "    return actions[action_index]\n",
    "\n",
    "# Test the agent\n",
    "for state in states:\n",
    "    print(f\"In state {state}, the agent chooses: {choose_best_action(state)}\")\n"
   ]
  },
  {
   "cell_type": "code",
   "execution_count": 2,
   "metadata": {},
   "outputs": [
    {
     "name": "stdout",
     "output_type": "stream",
     "text": [
      "Collecting gym\n",
      "  Downloading gym-0.26.2.tar.gz (721 kB)\n",
      "     ---------------------------------------- 0.0/721.7 kB ? eta -:--:--\n",
      "      --------------------------------------- 10.2/721.7 kB ? eta -:--:--\n",
      "      --------------------------------------- 10.2/721.7 kB ? eta -:--:--\n",
      "     - ----------------------------------- 20.5/721.7 kB 131.3 kB/s eta 0:00:06\n",
      "     -- ---------------------------------- 41.0/721.7 kB 217.9 kB/s eta 0:00:04\n",
      "     --- --------------------------------- 61.4/721.7 kB 328.2 kB/s eta 0:00:03\n",
      "     -------- --------------------------- 163.8/721.7 kB 756.6 kB/s eta 0:00:01\n",
      "     ---------------------------- --------- 532.5/721.7 kB 2.0 MB/s eta 0:00:01\n",
      "     -------------------------------------- 721.7/721.7 kB 2.3 MB/s eta 0:00:00\n",
      "  Installing build dependencies: started\n",
      "  Installing build dependencies: finished with status 'done'\n",
      "  Getting requirements to build wheel: started\n",
      "  Getting requirements to build wheel: finished with status 'done'\n",
      "  Preparing metadata (pyproject.toml): started\n",
      "  Preparing metadata (pyproject.toml): finished with status 'done'\n",
      "Requirement already satisfied: numpy>=1.18.0 in c:\\python312\\lib\\site-packages (from gym) (2.1.1)\n",
      "Collecting cloudpickle>=1.2.0 (from gym)\n",
      "  Downloading cloudpickle-3.1.0-py3-none-any.whl.metadata (7.0 kB)\n",
      "Collecting gym_notices>=0.0.4 (from gym)\n",
      "  Downloading gym_notices-0.0.8-py3-none-any.whl.metadata (1.0 kB)\n",
      "Downloading cloudpickle-3.1.0-py3-none-any.whl (22 kB)\n",
      "Downloading gym_notices-0.0.8-py3-none-any.whl (3.0 kB)\n",
      "Building wheels for collected packages: gym\n",
      "  Building wheel for gym (pyproject.toml): started\n",
      "  Building wheel for gym (pyproject.toml): finished with status 'done'\n",
      "  Created wheel for gym: filename=gym-0.26.2-py3-none-any.whl size=827636 sha256=c9932f34ec444452284a47f32a71d6414ab9a43cc626442f58299924ef6baaae\n",
      "  Stored in directory: c:\\users\\jaind\\appdata\\local\\pip\\cache\\wheels\\95\\51\\6c\\9bb05ebbe7c5cb8171dfaa3611f32622ca4658d53f31c79077\n",
      "Successfully built gym\n",
      "Installing collected packages: gym_notices, cloudpickle, gym\n",
      "Successfully installed cloudpickle-3.1.0 gym-0.26.2 gym_notices-0.0.8\n",
      "Note: you may need to restart the kernel to use updated packages.\n"
     ]
    },
    {
     "name": "stderr",
     "output_type": "stream",
     "text": [
      "\n",
      "[notice] A new release of pip is available: 24.0 -> 24.3.1\n",
      "[notice] To update, run: python.exe -m pip install --upgrade pip\n"
     ]
    }
   ],
   "source": [
    "pip install gym\n"
   ]
  },
  {
   "cell_type": "code",
   "execution_count": 6,
   "metadata": {},
   "outputs": [
    {
     "ename": "AttributeError",
     "evalue": "module 'numpy' has no attribute 'bool8'",
     "output_type": "error",
     "traceback": [
      "\u001b[1;31m---------------------------------------------------------------------------\u001b[0m",
      "\u001b[1;31mAttributeError\u001b[0m                            Traceback (most recent call last)",
      "Cell \u001b[1;32mIn[6], line 20\u001b[0m\n\u001b[0;32m     17\u001b[0m action \u001b[38;5;241m=\u001b[39m np\u001b[38;5;241m.\u001b[39margmax(q_table[state]) \u001b[38;5;28;01mif\u001b[39;00m np\u001b[38;5;241m.\u001b[39mrandom\u001b[38;5;241m.\u001b[39muniform(\u001b[38;5;241m0\u001b[39m, \u001b[38;5;241m1\u001b[39m) \u001b[38;5;241m>\u001b[39m \u001b[38;5;241m0.1\u001b[39m \u001b[38;5;28;01melse\u001b[39;00m env\u001b[38;5;241m.\u001b[39maction_space\u001b[38;5;241m.\u001b[39msample()\n\u001b[0;32m     19\u001b[0m \u001b[38;5;66;03m# Take the action and observe the next state and reward\u001b[39;00m\n\u001b[1;32m---> 20\u001b[0m next_state, reward, done, _, _ \u001b[38;5;241m=\u001b[39m \u001b[43menv\u001b[49m\u001b[38;5;241;43m.\u001b[39;49m\u001b[43mstep\u001b[49m\u001b[43m(\u001b[49m\u001b[43maction\u001b[49m\u001b[43m)\u001b[49m  \u001b[38;5;66;03m# Unpack the returned tuple correctly\u001b[39;00m\n\u001b[0;32m     22\u001b[0m \u001b[38;5;66;03m# Update the Q-table using the Q-learning formula\u001b[39;00m\n\u001b[0;32m     23\u001b[0m q_table[state, action] \u001b[38;5;241m+\u001b[39m\u001b[38;5;241m=\u001b[39m \u001b[38;5;241m0.1\u001b[39m \u001b[38;5;241m*\u001b[39m (reward \u001b[38;5;241m+\u001b[39m \u001b[38;5;241m0.9\u001b[39m \u001b[38;5;241m*\u001b[39m np\u001b[38;5;241m.\u001b[39mmax(q_table[next_state]) \u001b[38;5;241m-\u001b[39m q_table[state, action])\n",
      "File \u001b[1;32mc:\\Python312\\Lib\\site-packages\\gym\\wrappers\\time_limit.py:50\u001b[0m, in \u001b[0;36mTimeLimit.step\u001b[1;34m(self, action)\u001b[0m\n\u001b[0;32m     39\u001b[0m \u001b[38;5;28;01mdef\u001b[39;00m \u001b[38;5;21mstep\u001b[39m(\u001b[38;5;28mself\u001b[39m, action):\n\u001b[0;32m     40\u001b[0m \u001b[38;5;250m    \u001b[39m\u001b[38;5;124;03m\"\"\"Steps through the environment and if the number of steps elapsed exceeds ``max_episode_steps`` then truncate.\u001b[39;00m\n\u001b[0;32m     41\u001b[0m \n\u001b[0;32m     42\u001b[0m \u001b[38;5;124;03m    Args:\u001b[39;00m\n\u001b[1;32m   (...)\u001b[0m\n\u001b[0;32m     48\u001b[0m \n\u001b[0;32m     49\u001b[0m \u001b[38;5;124;03m    \"\"\"\u001b[39;00m\n\u001b[1;32m---> 50\u001b[0m     observation, reward, terminated, truncated, info \u001b[38;5;241m=\u001b[39m \u001b[38;5;28;43mself\u001b[39;49m\u001b[38;5;241;43m.\u001b[39;49m\u001b[43menv\u001b[49m\u001b[38;5;241;43m.\u001b[39;49m\u001b[43mstep\u001b[49m\u001b[43m(\u001b[49m\u001b[43maction\u001b[49m\u001b[43m)\u001b[49m\n\u001b[0;32m     51\u001b[0m     \u001b[38;5;28mself\u001b[39m\u001b[38;5;241m.\u001b[39m_elapsed_steps \u001b[38;5;241m+\u001b[39m\u001b[38;5;241m=\u001b[39m \u001b[38;5;241m1\u001b[39m\n\u001b[0;32m     53\u001b[0m     \u001b[38;5;28;01mif\u001b[39;00m \u001b[38;5;28mself\u001b[39m\u001b[38;5;241m.\u001b[39m_elapsed_steps \u001b[38;5;241m>\u001b[39m\u001b[38;5;241m=\u001b[39m \u001b[38;5;28mself\u001b[39m\u001b[38;5;241m.\u001b[39m_max_episode_steps:\n",
      "File \u001b[1;32mc:\\Python312\\Lib\\site-packages\\gym\\wrappers\\order_enforcing.py:37\u001b[0m, in \u001b[0;36mOrderEnforcing.step\u001b[1;34m(self, action)\u001b[0m\n\u001b[0;32m     35\u001b[0m \u001b[38;5;28;01mif\u001b[39;00m \u001b[38;5;129;01mnot\u001b[39;00m \u001b[38;5;28mself\u001b[39m\u001b[38;5;241m.\u001b[39m_has_reset:\n\u001b[0;32m     36\u001b[0m     \u001b[38;5;28;01mraise\u001b[39;00m ResetNeeded(\u001b[38;5;124m\"\u001b[39m\u001b[38;5;124mCannot call env.step() before calling env.reset()\u001b[39m\u001b[38;5;124m\"\u001b[39m)\n\u001b[1;32m---> 37\u001b[0m \u001b[38;5;28;01mreturn\u001b[39;00m \u001b[38;5;28;43mself\u001b[39;49m\u001b[38;5;241;43m.\u001b[39;49m\u001b[43menv\u001b[49m\u001b[38;5;241;43m.\u001b[39;49m\u001b[43mstep\u001b[49m\u001b[43m(\u001b[49m\u001b[43maction\u001b[49m\u001b[43m)\u001b[49m\n",
      "File \u001b[1;32mc:\\Python312\\Lib\\site-packages\\gym\\wrappers\\env_checker.py:37\u001b[0m, in \u001b[0;36mPassiveEnvChecker.step\u001b[1;34m(self, action)\u001b[0m\n\u001b[0;32m     35\u001b[0m \u001b[38;5;28;01mif\u001b[39;00m \u001b[38;5;28mself\u001b[39m\u001b[38;5;241m.\u001b[39mchecked_step \u001b[38;5;129;01mis\u001b[39;00m \u001b[38;5;28;01mFalse\u001b[39;00m:\n\u001b[0;32m     36\u001b[0m     \u001b[38;5;28mself\u001b[39m\u001b[38;5;241m.\u001b[39mchecked_step \u001b[38;5;241m=\u001b[39m \u001b[38;5;28;01mTrue\u001b[39;00m\n\u001b[1;32m---> 37\u001b[0m     \u001b[38;5;28;01mreturn\u001b[39;00m \u001b[43menv_step_passive_checker\u001b[49m\u001b[43m(\u001b[49m\u001b[38;5;28;43mself\u001b[39;49m\u001b[38;5;241;43m.\u001b[39;49m\u001b[43menv\u001b[49m\u001b[43m,\u001b[49m\u001b[43m \u001b[49m\u001b[43maction\u001b[49m\u001b[43m)\u001b[49m\n\u001b[0;32m     38\u001b[0m \u001b[38;5;28;01melse\u001b[39;00m:\n\u001b[0;32m     39\u001b[0m     \u001b[38;5;28;01mreturn\u001b[39;00m \u001b[38;5;28mself\u001b[39m\u001b[38;5;241m.\u001b[39menv\u001b[38;5;241m.\u001b[39mstep(action)\n",
      "File \u001b[1;32mc:\\Python312\\Lib\\site-packages\\gym\\utils\\passive_env_checker.py:233\u001b[0m, in \u001b[0;36menv_step_passive_checker\u001b[1;34m(env, action)\u001b[0m\n\u001b[0;32m    230\u001b[0m obs, reward, terminated, truncated, info \u001b[38;5;241m=\u001b[39m result\n\u001b[0;32m    232\u001b[0m \u001b[38;5;66;03m# np.bool is actual python bool not np boolean type, therefore bool_ or bool8\u001b[39;00m\n\u001b[1;32m--> 233\u001b[0m \u001b[38;5;28;01mif\u001b[39;00m \u001b[38;5;129;01mnot\u001b[39;00m \u001b[38;5;28misinstance\u001b[39m(terminated, (\u001b[38;5;28mbool\u001b[39m, \u001b[43mnp\u001b[49m\u001b[38;5;241;43m.\u001b[39;49m\u001b[43mbool8\u001b[49m)):\n\u001b[0;32m    234\u001b[0m     logger\u001b[38;5;241m.\u001b[39mwarn(\n\u001b[0;32m    235\u001b[0m         \u001b[38;5;124mf\u001b[39m\u001b[38;5;124m\"\u001b[39m\u001b[38;5;124mExpects `terminated` signal to be a boolean, actual type: \u001b[39m\u001b[38;5;132;01m{\u001b[39;00m\u001b[38;5;28mtype\u001b[39m(terminated)\u001b[38;5;132;01m}\u001b[39;00m\u001b[38;5;124m\"\u001b[39m\n\u001b[0;32m    236\u001b[0m     )\n\u001b[0;32m    237\u001b[0m \u001b[38;5;28;01mif\u001b[39;00m \u001b[38;5;129;01mnot\u001b[39;00m \u001b[38;5;28misinstance\u001b[39m(truncated, (\u001b[38;5;28mbool\u001b[39m, np\u001b[38;5;241m.\u001b[39mbool8)):\n",
      "File \u001b[1;32mc:\\Python312\\Lib\\site-packages\\numpy\\__init__.py:428\u001b[0m, in \u001b[0;36m__getattr__\u001b[1;34m(attr)\u001b[0m\n\u001b[0;32m    425\u001b[0m     \u001b[38;5;28;01mimport\u001b[39;00m \u001b[38;5;21;01mnumpy\u001b[39;00m\u001b[38;5;21;01m.\u001b[39;00m\u001b[38;5;21;01mchar\u001b[39;00m \u001b[38;5;28;01mas\u001b[39;00m \u001b[38;5;21;01mchar\u001b[39;00m\n\u001b[0;32m    426\u001b[0m     \u001b[38;5;28;01mreturn\u001b[39;00m char\u001b[38;5;241m.\u001b[39mchararray\n\u001b[1;32m--> 428\u001b[0m \u001b[38;5;28;01mraise\u001b[39;00m \u001b[38;5;167;01mAttributeError\u001b[39;00m(\u001b[38;5;124m\"\u001b[39m\u001b[38;5;124mmodule \u001b[39m\u001b[38;5;132;01m{!r}\u001b[39;00m\u001b[38;5;124m has no attribute \u001b[39m\u001b[38;5;124m\"\u001b[39m\n\u001b[0;32m    429\u001b[0m                      \u001b[38;5;124m\"\u001b[39m\u001b[38;5;132;01m{!r}\u001b[39;00m\u001b[38;5;124m\"\u001b[39m\u001b[38;5;241m.\u001b[39mformat(\u001b[38;5;18m__name__\u001b[39m, attr))\n",
      "\u001b[1;31mAttributeError\u001b[0m: module 'numpy' has no attribute 'bool8'"
     ]
    }
   ],
   "source": [
    "import gym\n",
    "import numpy as np\n",
    "\n",
    "# Initialize the Taxi environment\n",
    "env = gym.make(\"Taxi-v3\")\n",
    "\n",
    "# Initialize the Q-table with zeros. It will have one row for each state and one column for each action.\n",
    "q_table = np.zeros([env.observation_space.n, env.action_space.n])\n",
    "\n",
    "# RL Training loop\n",
    "for episode in range(5000):\n",
    "    state, _ = env.reset()  # Correctly unpack the state from env.reset()\n",
    "    done = False\n",
    "\n",
    "    while not done:\n",
    "        # Select an action using epsilon-greedy policy\n",
    "        action = np.argmax(q_table[state]) if np.random.uniform(0, 1) > 0.1 else env.action_space.sample()\n",
    "\n",
    "        # Take the action and observe the next state and reward\n",
    "        next_state, reward, done, _, _ = env.step(action)  # Unpack the returned tuple correctly\n",
    "\n",
    "        # Update the Q-table using the Q-learning formula\n",
    "        q_table[state, action] += 0.1 * (reward + 0.9 * np.max(q_table[next_state]) - q_table[state, action])\n",
    "\n",
    "        # Move to the next state\n",
    "        state = next_state\n",
    "\n",
    "# After training, you can test the policy\n",
    "state = env.reset()[0]\n",
    "done = False\n",
    "while not done:\n",
    "    action = np.argmax(q_table[state])  # Select the best action based on the Q-table\n",
    "    state, reward, done, _, _ = env.step(action)  # Take the action in the environment\n",
    "    env.render()  # Render the environment to see the results\n"
   ]
  },
  {
   "cell_type": "code",
   "execution_count": 5,
   "metadata": {},
   "outputs": [
    {
     "name": "stdout",
     "output_type": "stream",
     "text": [
      "Requirement already satisfied: numpy in c:\\python312\\lib\\site-packages (2.1.1)\n",
      "Collecting numpy\n",
      "  Downloading numpy-2.1.3-cp312-cp312-win_amd64.whl.metadata (60 kB)\n",
      "     ---------------------------------------- 0.0/60.8 kB ? eta -:--:--\n",
      "     ------ --------------------------------- 10.2/60.8 kB ? eta -:--:--\n",
      "     ------------ ------------------------- 20.5/60.8 kB 217.9 kB/s eta 0:00:01\n",
      "     ------------------- ------------------ 30.7/60.8 kB 330.3 kB/s eta 0:00:01\n",
      "     ------------------------------- ------ 51.2/60.8 kB 292.6 kB/s eta 0:00:01\n",
      "     -------------------------------------- 60.8/60.8 kB 294.2 kB/s eta 0:00:00\n",
      "Downloading numpy-2.1.3-cp312-cp312-win_amd64.whl (12.6 MB)\n",
      "   ---------------------------------------- 0.0/12.6 MB ? eta -:--:--\n",
      "   ---------------------------------------- 0.1/12.6 MB 3.4 MB/s eta 0:00:04\n",
      "   ---------------------------------------- 0.2/12.6 MB 3.1 MB/s eta 0:00:05\n",
      "   - -------------------------------------- 0.4/12.6 MB 3.4 MB/s eta 0:00:04\n",
      "   --- ------------------------------------ 1.0/12.6 MB 6.5 MB/s eta 0:00:02\n",
      "   ----- ---------------------------------- 1.6/12.6 MB 7.7 MB/s eta 0:00:02\n",
      "   ----- ---------------------------------- 1.7/12.6 MB 7.6 MB/s eta 0:00:02\n",
      "   ----------- ---------------------------- 3.7/12.6 MB 12.6 MB/s eta 0:00:01\n",
      "   ------------ --------------------------- 3.8/12.6 MB 11.0 MB/s eta 0:00:01\n",
      "   --------------- ------------------------ 4.9/12.6 MB 12.1 MB/s eta 0:00:01\n",
      "   ------------------- -------------------- 6.1/12.6 MB 13.3 MB/s eta 0:00:01\n",
      "   ----------------------- ---------------- 7.3/12.6 MB 14.6 MB/s eta 0:00:01\n",
      "   -------------------------- ------------- 8.2/12.6 MB 14.6 MB/s eta 0:00:01\n",
      "   ------------------------------ --------- 9.6/12.6 MB 15.7 MB/s eta 0:00:01\n",
      "   --------------------------------- ------ 10.6/12.6 MB 19.3 MB/s eta 0:00:01\n",
      "   ------------------------------------ --- 11.4/12.6 MB 20.5 MB/s eta 0:00:01\n",
      "   ---------------------------------------  12.6/12.6 MB 23.4 MB/s eta 0:00:01\n",
      "   ---------------------------------------  12.6/12.6 MB 23.4 MB/s eta 0:00:01\n",
      "   ---------------------------------------- 12.6/12.6 MB 20.4 MB/s eta 0:00:00\n",
      "Installing collected packages: numpy\n",
      "  Attempting uninstall: numpy\n",
      "    Found existing installation: numpy 2.1.1\n",
      "    Uninstalling numpy-2.1.1:\n",
      "      Successfully uninstalled numpy-2.1.1\n",
      "Successfully installed numpy-2.1.3\n",
      "Note: you may need to restart the kernel to use updated packages.\n"
     ]
    },
    {
     "name": "stderr",
     "output_type": "stream",
     "text": [
      "  WARNING: Failed to remove contents in a temporary directory 'C:\\Python312\\Lib\\site-packages\\~umpy.libs'.\n",
      "  You can safely remove it manually.\n",
      "  WARNING: Failed to remove contents in a temporary directory 'C:\\Python312\\Lib\\site-packages\\~umpy'.\n",
      "  You can safely remove it manually.\n",
      "\n",
      "[notice] A new release of pip is available: 24.0 -> 24.3.1\n",
      "[notice] To update, run: python.exe -m pip install --upgrade pip\n"
     ]
    }
   ],
   "source": [
    "pip install --upgrade numpy\n"
   ]
  }
 ],
 "metadata": {
  "kernelspec": {
   "display_name": "Python 3",
   "language": "python",
   "name": "python3"
  },
  "language_info": {
   "codemirror_mode": {
    "name": "ipython",
    "version": 3
   },
   "file_extension": ".py",
   "mimetype": "text/x-python",
   "name": "python",
   "nbconvert_exporter": "python",
   "pygments_lexer": "ipython3",
   "version": "3.12.2"
  }
 },
 "nbformat": 4,
 "nbformat_minor": 2
}
